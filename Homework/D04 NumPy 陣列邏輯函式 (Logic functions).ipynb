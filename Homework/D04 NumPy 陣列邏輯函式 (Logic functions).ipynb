{
 "cells": [
  {
   "cell_type": "code",
   "execution_count": 1,
   "id": "focal-writer",
   "metadata": {},
   "outputs": [],
   "source": [
    "import numpy as np"
   ]
  },
  {
   "cell_type": "markdown",
   "id": "fluid-cleaner",
   "metadata": {},
   "source": [
    "作業目標\n",
    "熟悉邏輯運算\n",
    "作業重點\n",
    "五大類邏輯函式與其對應的函式操作\n",
    "\n",
    "題目:\n",
    "english_score = np.array([55,89,76,65,48,70])\n",
    "math_score = np.array([60,85,60,68,55,60])\n",
    "chinese_score = np.array([65,90,82,72,66,77])\n",
    "上3列共六位同學的英文、數學、國文成績，第一個元素代表第一位同學，舉例第一位同學英文55分、數學60分、國文65分，運用上列數據回答下列問題。\n",
    "\n",
    "有多少學生英文成績比數學成績高?\n",
    "是否全班同學最高分都是國文?"
   ]
  },
  {
   "cell_type": "code",
   "execution_count": 5,
   "id": "sharp-north",
   "metadata": {},
   "outputs": [
    {
     "data": {
      "text/plain": [
       "array([False,  True,  True, False, False,  True])"
      ]
     },
     "execution_count": 5,
     "metadata": {},
     "output_type": "execute_result"
    }
   ],
   "source": [
    "#1.有多少學生英文成績比數學成績高?\n",
    "english_score = np.array([55,89,76,65,48,70])\n",
    "\n",
    "math_score = np.array([60,85,60,68,55,60])\n",
    "\n",
    "chinese_score = np.array([65,90,82,72,66,77])\n",
    "\n",
    "np.greater(english_score, math_score)"
   ]
  },
  {
   "cell_type": "code",
   "execution_count": 6,
   "id": "understanding-retailer",
   "metadata": {},
   "outputs": [
    {
     "data": {
      "text/plain": [
       "array([ True,  True,  True,  True,  True,  True])"
      ]
     },
     "execution_count": 6,
     "metadata": {},
     "output_type": "execute_result"
    }
   ],
   "source": [
    "#2.是否全班同學最高分都是國文?\n",
    "chinese_english = np.greater(chinese_score, english_score)\n",
    "chinese_math = np.greater(chinese_score, math_score)\n",
    "np.logical_and(chinese_english, chinese_math)"
   ]
  }
 ],
 "metadata": {
  "kernelspec": {
   "display_name": "Python 3",
   "language": "python",
   "name": "python3"
  },
  "language_info": {
   "codemirror_mode": {
    "name": "ipython",
    "version": 3
   },
   "file_extension": ".py",
   "mimetype": "text/x-python",
   "name": "python",
   "nbconvert_exporter": "python",
   "pygments_lexer": "ipython3",
   "version": "3.8.3"
  }
 },
 "nbformat": 4,
 "nbformat_minor": 5
}

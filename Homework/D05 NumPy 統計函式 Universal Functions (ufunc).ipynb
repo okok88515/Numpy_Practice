{
 "cells": [
  {
   "cell_type": "code",
   "execution_count": 1,
   "id": "forty-partner",
   "metadata": {},
   "outputs": [],
   "source": [
    "import numpy as np"
   ]
  },
  {
   "cell_type": "markdown",
   "id": "grave-moldova",
   "metadata": {},
   "source": [
    "作業目標\n",
    "計算有缺失值的資料，統計量實作\n",
    "作業重點\n",
    "當遇到缺失值有函式可以處理，不須額外寫程式刪除\n",
    "計算統計量時不能出現缺失值\n",
    "\n",
    "題目:\n",
    "english_score = np.array([55,89,76,65,48,70])\n",
    "math_score = np.array([60,85,60,68,np.nan,60])\n",
    "chinese_score = np.array([65,90,82,72,66,77])\n",
    "上3列共六位同學的英文、數學、國文成績，第一個元素代表第一位同學，舉例第一位同學英文55分、數學60分、國文65分，今天第五位同學因某原因沒來考試，導致數學成績缺值，運用上列數據回答下列問題。\n",
    "\n",
    "請計算各科成績平均、最大值、最小值、標準差，其中數學缺一筆資料可忽略?\n",
    "第五位同學補考數學後成績為55，請計算補考後數學成績平均、最大值、最小值、標準差?\n",
    "用補考後資料找出與國文成績相關係數最高的學科?"
   ]
  },
  {
   "cell_type": "code",
   "execution_count": 2,
   "id": "certified-hunter",
   "metadata": {},
   "outputs": [],
   "source": [
    "english_score = np.array([55,89,76,65,48,70])\n",
    "math_score = np.array([60,85,60,68,np.nan,60])\n",
    "chinese_score = np.array([65,90,82,72,66,77])"
   ]
  },
  {
   "cell_type": "code",
   "execution_count": 17,
   "id": "running-williams",
   "metadata": {},
   "outputs": [
    {
     "name": "stdout",
     "output_type": "stream",
     "text": [
      "英文成績平均 = 67.16666666666667 ，最大值 = 89 ，最小值 = 48，標準差 = 13.433995020924426\n",
      "數學成績平均 = 66.6 ，最大值 = 85.0 ，最小值 = 60.0，標準差 = 9.707728879609279\n",
      "國文成績平均 = 75.33333333333333 ，最大值 = 90 ，最小值 = 65，標準差 = 8.825468196582484\n"
     ]
    }
   ],
   "source": [
    "#1. 請計算各科成績平均、最大值、最小值、標準差，其中數學缺一筆資料可忽略?\n",
    "eng_mean = np.nanmean(english_score)\n",
    "eng_max = np.nanmax(english_score)\n",
    "eng_min = np.nanmin(english_score)\n",
    "eng_std = np.nanstd(english_score)\n",
    "\n",
    "math_mean = np.nanmean(math_score)\n",
    "math_max = np.nanmax(math_score)\n",
    "math_min = np.nanmin(math_score)\n",
    "math_std = np.nanstd(math_score)\n",
    "\n",
    "chi_mean = np.nanmean(chinese_score)\n",
    "chi_max = np.nanmax(chinese_score)\n",
    "chi_min = np.nanmin(chinese_score)\n",
    "chi_std = np.nanstd(chinese_score)\n",
    "print(\"英文成績平均 = \"+str(eng_mean)+\" ，最大值 = \"+str(eng_max)+\" ，最小值 = \"\n",
    "      +str(eng_min)+\"，標準差 = \"+str(eng_std))\n",
    "print(\"數學成績平均 = \"+str(math_mean)+\" ，最大值 = \"+str(math_max)+\" ，最小值 = \"\n",
    "      +str(math_min)+\"，標準差 = \"+str(math_std))\n",
    "print(\"國文成績平均 = \"+str(chi_mean)+\" ，最大值 = \"+str(chi_max)+\" ，最小值 = \"\n",
    "      +str(chi_min)+\"，標準差 = \"+str(chi_std))"
   ]
  },
  {
   "cell_type": "code",
   "execution_count": 18,
   "id": "designed-wallace",
   "metadata": {},
   "outputs": [
    {
     "name": "stdout",
     "output_type": "stream",
     "text": [
      "數學成績平均 = 64.66666666666667 ，最大值 = 85 ，最小值 = 55，標準差 = 9.860132971832694\n"
     ]
    }
   ],
   "source": [
    "#2. 第五位同學補考數學後成績為55，請計算補考後數學成績平均、最大值、最小值、標準差?\n",
    "math_finalscore = np.array([60,85,60,68,55,60])\n",
    "math_mean = np.nanmean(math_finalscore)\n",
    "math_max = np.nanmax(math_finalscore)\n",
    "math_min = np.nanmin(math_finalscore)\n",
    "math_std = np.nanstd(math_finalscore)\n",
    "print(\"數學成績平均 = \"+str(math_mean)+\" ，最大值 = \"+str(math_max)+\" ，最小值 = \"\n",
    "      +str(math_min)+\"，標準差 = \"+str(math_std))"
   ]
  },
  {
   "cell_type": "code",
   "execution_count": 29,
   "id": "extra-election",
   "metadata": {},
   "outputs": [
    {
     "name": "stdout",
     "output_type": "stream",
     "text": [
      "國文與數學相關係數 [[1.         0.74056803]\n",
      " [0.74056803 1.        ]]\n",
      "國文與英文相關係數 [[1.         0.97792828]\n",
      " [0.97792828 1.        ]]\n"
     ]
    }
   ],
   "source": [
    "#3. 用補考後資料找出與國文成績相關係數最高的學科?\n",
    "chi_mathcorr = np.corrcoef(chinese_score,math_finalscore)\n",
    "chi_engcorr = np.corrcoef(chinese_score,english_score)\n",
    "print(\"國文與數學相關係數\",chi_mathcorr)\n",
    "print(\"國文與英文相關係數\",chi_engcorr)"
   ]
  }
 ],
 "metadata": {
  "kernelspec": {
   "display_name": "Python 3",
   "language": "python",
   "name": "python3"
  },
  "language_info": {
   "codemirror_mode": {
    "name": "ipython",
    "version": 3
   },
   "file_extension": ".py",
   "mimetype": "text/x-python",
   "name": "python",
   "nbconvert_exporter": "python",
   "pygments_lexer": "ipython3",
   "version": "3.8.3"
  }
 },
 "nbformat": 4,
 "nbformat_minor": 5
}

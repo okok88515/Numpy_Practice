{
 "cells": [
  {
   "cell_type": "markdown",
   "id": "ahead-uruguay",
   "metadata": {},
   "source": [
    "作業目標:\n",
    "嘗試練習log的函式並應用\n",
    "作業重點:\n",
    "學員需要複習log的轉換方式\n",
    "熟悉運用指數函數以及對數函數\n",
    "\n",
    "題目:\n",
    "運用投影片中的分貝公式回答下列問題。\n",
    "1.正常的談話的聲壓為20000微巴斯卡，請問多少分貝?\n",
    "2.30分貝的聲壓會是50分貝的幾倍?"
   ]
  },
  {
   "cell_type": "code",
   "execution_count": 1,
   "id": "incorrect-cornwall",
   "metadata": {},
   "outputs": [],
   "source": [
    "import numpy as np"
   ]
  },
  {
   "cell_type": "code",
   "execution_count": 14,
   "id": "moving-outside",
   "metadata": {},
   "outputs": [
    {
     "name": "stdout",
     "output_type": "stream",
     "text": [
      "20000微巴斯卡等於60.0分貝\n"
     ]
    }
   ],
   "source": [
    "#1.正常的談話的聲壓為20000微巴斯卡，請問多少分貝?\n",
    "#請寫下程式\n",
    "V1 = 20000\n",
    "V0 = 20\n",
    "gdp_v1=20*(np.log10((V1/V0)))\n",
    "print(\"20000微巴斯卡等於\"+str(gdp_v1)+\"分貝\")"
   ]
  },
  {
   "cell_type": "code",
   "execution_count": 17,
   "id": "moving-bankruptcy",
   "metadata": {},
   "outputs": [
    {
     "name": "stdout",
     "output_type": "stream",
     "text": [
      "30分貝的聲壓會是50分貝的0.09999999999999999倍\n"
     ]
    }
   ],
   "source": [
    "#2.30分貝的聲壓會是50分貝的幾倍?\n",
    "#公式移項過後可以得到 V1 = ?\n",
    "#請寫下程式\n",
    "def compute_v(gdp):\n",
    "    v0 = 20\n",
    "    v1 = 10**(gdp/20)*v0\n",
    "    return v1\n",
    "answer = compute_v(30)/compute_v(50)\n",
    "print(\"30分貝的聲壓會是50分貝的\"+str(answer)+\"倍\")"
   ]
  }
 ],
 "metadata": {
  "kernelspec": {
   "display_name": "Python 3",
   "language": "python",
   "name": "python3"
  },
  "language_info": {
   "codemirror_mode": {
    "name": "ipython",
    "version": 3
   },
   "file_extension": ".py",
   "mimetype": "text/x-python",
   "name": "python",
   "nbconvert_exporter": "python",
   "pygments_lexer": "ipython3",
   "version": "3.8.3"
  }
 },
 "nbformat": 4,
 "nbformat_minor": 5
}
